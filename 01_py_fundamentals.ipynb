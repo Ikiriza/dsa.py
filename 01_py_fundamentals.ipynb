{
 "cells": [
  {
   "cell_type": "markdown",
   "metadata": {
    "id": "oKQ_vxKTBNgq"
   },
   "source": [
    "# Python Fundamentals"
   ]
  },
  {
   "cell_type": "markdown",
   "metadata": {
    "id": "qcN3RqzAIMnh"
   },
   "source": [
    "## Language overview\n",
    "\n",
    "Note: this is *not* a language course! You are expected you to master the language in your own time.\n",
    "\n",
    "Python ...\n",
    "\n",
    "- is *interpreted*\n",
    "- is *dynamically-typed* (vs. statically typed)\n",
    "- is *automatically memory-managed*\n",
    "- supports *procedural*, *object-oriented*, *imperative* and *functional* programming paradigms\n",
    "- has a single reference implementation (CPython)\n",
    "- version 3 (the most recent version) is *not backwards-compatible* with version 2, though the latter is still widely used\n",
    "- has an interesting programming philosophy: \"There should be one — and preferably only one — obvious way to do it.\" (a.k.a. the \"Pythonic\" way) — see [The Zen of Python](https://www.python.org/dev/peps/pep-0020/)"
   ]
  },
  {
   "cell_type": "markdown",
   "metadata": {
    "id": "xsLB1f4Y40Kl"
   },
   "source": [
    "## Variables, handling Strings etc"
   ]
  },
  {
   "cell_type": "code",
   "execution_count": null,
   "metadata": {
    "scrolled": true
   },
   "outputs": [
    {
     "name": "stdout",
     "output_type": "stream",
     "text": [
      "Hello world!\n",
      "What is your name: \n"
     ]
    }
   ],
   "source": [
    "print(\"Hello world!\")\n",
    "print(\"What is your name: \")\n",
    "name = input(\"What is your name: \")\n",
    "print(\"Nice to see you:\", name, sep=\"*****\")\n",
    "print(\"Nice to see you: \" + name)\n",
    "print(f\"Nice to see you: , {name}\")\n",
    "print('')\n",
    "print('', end=\"&&&&&\")\n",
    "#print(\"\")\n",
    "print(\"Actually \"+ name + \" is my \\\"friend\\\"\")\n",
    "print('Actually '+ name + ' is my \"friend\"')\n"
   ]
  },
  {
   "cell_type": "code",
   "execution_count": null,
   "metadata": {},
   "outputs": [],
   "source": [
    "# print function \n",
    "print(*object, sep='', end='\\n', file=sys.stdout, flush=False)\n"
   ]
  },
  {
   "cell_type": "code",
   "execution_count": null,
   "metadata": {
    "scrolled": true
   },
   "outputs": [],
   "source": [
    "name = input(\"What is your name: \")\n",
    "name = name.strip()\n",
    "name = name.capitalize()\n",
    "name = name.title()\n",
    "print(name)\n",
    "myName = input(\"What is your name? \").strip().title()\n",
    "print(myName)"
   ]
  },
  {
   "cell_type": "markdown",
   "metadata": {},
   "source": [
    "### Comment in Python"
   ]
  },
  {
   "cell_type": "code",
   "execution_count": null,
   "metadata": {},
   "outputs": [],
   "source": [
    "# this is comment 1\n",
    "# this is comment 2\n",
    "\"\"\"\n",
    "Comment line 1\n",
    "Comment line 2\n",
    "Comment line 3\n",
    "\n",
    "\"\"\""
   ]
  },
  {
   "cell_type": "code",
   "execution_count": null,
   "metadata": {
    "scrolled": true
   },
   "outputs": [],
   "source": [
    "x = 50\n",
    "y = 20\n",
    "z = x + y\n",
    "print(z)\n",
    "\n",
    "#x = int(input(\" x = \"))\n",
    "#y = int(input(\" y = \"))\n",
    "#z = x + y\n",
    "#print(z)\n",
    "\n",
    "x = input(\" x = \")\n",
    "y = input(\" y = \")\n",
    "z = int(x) + int(y)\n",
    "print(z)\n",
    "\n",
    "x = float(input(\" x = \"))\n",
    "y = float(input(\" y = \"))\n",
    "z = x + y\n",
    "print(z)"
   ]
  },
  {
   "cell_type": "markdown",
   "metadata": {},
   "source": [
    "round(number[, ndigits) "
   ]
  },
  {
   "cell_type": "code",
   "execution_count": null,
   "metadata": {
    "scrolled": true
   },
   "outputs": [],
   "source": [
    "x = float(input(\" x = \"))\n",
    "y = float(input(\" y = \"))\n",
    "z = round(x/y, 3) // ceil, floor\n",
    "print(z)\n",
    "print(f\"{z:.2f}\")\n"
   ]
  },
  {
   "cell_type": "code",
   "execution_count": null,
   "metadata": {},
   "outputs": [],
   "source": [
    "x = int(input(\" x = \"))\n",
    "y = int(input(\" y = \"))\n",
    "z = x * y\n",
    "print(f\"{z:,}\")"
   ]
  },
  {
   "cell_type": "markdown",
   "metadata": {
    "id": "xPUSfNyE6DVW"
   },
   "source": [
    "## Selection statements\n"
   ]
  },
  {
   "cell_type": "markdown",
   "metadata": {
    "id": "3K1mqM-p6ZLI"
   },
   "source": [
    "## Functions\n",
    "\n",
    "*A function is like a miniprogram within a program*\n",
    "*methods*\n",
    "\n",
    "def name(parameters):\n",
    "    statements"
   ]
  },
  {
   "cell_type": "code",
   "execution_count": null,
   "metadata": {
    "id": "q83FUAyW64hQ"
   },
   "outputs": [],
   "source": [
    "def main():\n",
    "    myName = input(\"Enter your name: \")\n",
    "    hello()\n",
    "    \n",
    "def hello():\n",
    "    print(\"Hello world\")\n",
    "    print(\"Hello world\")\n",
    "    print(\"Hello world\")\n",
    "\n",
    "main()\n",
    "#hello()\n",
    "  "
   ]
  },
  {
   "cell_type": "code",
   "execution_count": null,
   "metadata": {},
   "outputs": [],
   "source": [
    "## Demonstrate the scope of variables.\n",
    "def main():\n",
    "    x = 2\n",
    "    print(str(x) + \": function main\")\n",
    "    trivial()\n",
    "    print(str(x) + \": function main\")\n",
    "\n",
    "def trivial():\n",
    "    x = 3\n",
    "    print(str(x) + \": function trivial\")\n",
    "\n",
    "main()    \n"
   ]
  },
  {
   "cell_type": "markdown",
   "metadata": {},
   "source": [
    "### Question: Write a function that calculates a cube of a given value."
   ]
  },
  {
   "cell_type": "code",
   "execution_count": null,
   "metadata": {},
   "outputs": [],
   "source": [
    "def main():\n",
    "    value = int(input(\"Enter the value: \"))\n",
    "    print(value, \" to power 3 = \", cubed(value), sep=\"\" )\n",
    "    \n",
    "def cubed(n): # parameter or argument\n",
    "    return n * n * n # n ** 3, pow(n, 3)\n",
    "\n",
    "main()"
   ]
  },
  {
   "cell_type": "markdown",
   "metadata": {
    "id": "NovsMT7349Dm"
   },
   "source": [
    "## Control Statements"
   ]
  },
  {
   "cell_type": "markdown",
   "metadata": {
    "id": "xvCGsUoa5NUR"
   },
   "source": [
    "### whole ... statement\n",
    "\n",
    "Syntax:\n",
    "\n",
    "while condition:\n",
    "  statements"
   ]
  },
  {
   "cell_type": "code",
   "execution_count": null,
   "metadata": {
    "id": "vDp0FzNkY8Uh"
   },
   "outputs": [],
   "source": [
    "# example:\n",
    "count = 1\n",
    "while (count < 10):\n",
    "    print(\"hello whole\")\n",
    "    if count == 5:\n",
    "        break\n",
    "    count = count +1"
   ]
  },
  {
   "cell_type": "code",
   "execution_count": null,
   "metadata": {},
   "outputs": [],
   "source": [
    "# example:\n",
    "\n",
    "while True:\n",
    "    print(\"hello whole\")\n",
    "    stopper = int(input(\"Enter 0 to stop \"))\n",
    "    if stopper != 0:\n",
    "        continue\n",
    "    print(\"hello whole\")"
   ]
  },
  {
   "cell_type": "markdown",
   "metadata": {
    "id": "2MhFOi5T59CY"
   },
   "source": [
    "### for ... loop"
   ]
  },
  {
   "cell_type": "markdown",
   "metadata": {},
   "source": [
    "How can we write a \"for\" or \"while\" loop that prints out all the multiples of 3 down from 100 to 0 in descending order?"
   ]
  },
  {
   "cell_type": "code",
   "execution_count": 1,
   "metadata": {},
   "outputs": [
    {
     "name": "stdout",
     "output_type": "stream",
     "text": [
      "99\n",
      "96\n",
      "93\n",
      "90\n",
      "87\n",
      "84\n",
      "81\n",
      "78\n",
      "75\n",
      "72\n",
      "69\n",
      "66\n",
      "63\n",
      "60\n",
      "57\n",
      "54\n",
      "51\n",
      "48\n",
      "45\n",
      "42\n",
      "39\n",
      "36\n",
      "33\n",
      "30\n",
      "27\n",
      "24\n",
      "21\n",
      "18\n",
      "15\n",
      "12\n",
      "9\n",
      "6\n",
      "3\n",
      "0\n"
     ]
    }
   ],
   "source": [
    "for i in reversed(range(100)):\n",
    "    if i%3==0:\n",
    "        print(i)"
   ]
  },
  {
   "cell_type": "markdown",
   "metadata": {},
   "source": [
    "## Exercises 1"
   ]
  },
  {
   "cell_type": "markdown",
   "metadata": {},
   "source": [
    "## Question 1\n",
    "0<250000 Nil PAYE\n",
    "250000 < 350000 PAYE is 10% of the amount that exceeds 250,000\n",
    "350,0000 - 450,000 PAYE is 10,000 + 20% of the amount that exceeds 350,000\n",
    "and the rest pay PAYE of 30,000 + 30% of the amount that exceeds 450,000 \n",
    "Develop a PAYE calculator\n",
    "\n",
    "- if --- statements "
   ]
  },
  {
   "cell_type": "code",
   "execution_count": 2,
   "metadata": {},
   "outputs": [],
   "source": [
    "# Question 1 Solution"
   ]
  },
  {
   "cell_type": "markdown",
   "metadata": {},
   "source": [
    "## Question 2\n",
    "Write a function that extracts the first name from a full name"
   ]
  },
  {
   "cell_type": "code",
   "execution_count": null,
   "metadata": {},
   "outputs": [],
   "source": [
    "# Question 2 Solution"
   ]
  },
  {
   "cell_type": "markdown",
   "metadata": {},
   "source": [
    "## Question 3\n",
    "Write a function that converts fahrenheit temperature to celsius"
   ]
  },
  {
   "cell_type": "code",
   "execution_count": null,
   "metadata": {},
   "outputs": [],
   "source": [
    "# Question 3 Solution"
   ]
  },
  {
   "cell_type": "markdown",
   "metadata": {},
   "source": [
    "## Question 4\n",
    "Write a function that determine if a word contains every vowel."
   ]
  },
  {
   "cell_type": "code",
   "execution_count": null,
   "metadata": {},
   "outputs": [],
   "source": [
    "# Question 4 Solution"
   ]
  }
 ],
 "metadata": {
  "colab": {
   "authorship_tag": "ABX9TyP6ltp93WhF+9Iiy7VzI8oo",
   "name": "01_py_fundamentals.ipynb",
   "provenance": []
  },
  "kernelspec": {
   "display_name": "Python 3 (ipykernel)",
   "language": "python",
   "name": "python3"
  },
  "language_info": {
   "codemirror_mode": {
    "name": "ipython",
    "version": 3
   },
   "file_extension": ".py",
   "mimetype": "text/x-python",
   "name": "python",
   "nbconvert_exporter": "python",
   "pygments_lexer": "ipython3",
   "version": "3.9.7"
  }
 },
 "nbformat": 4,
 "nbformat_minor": 1
}
